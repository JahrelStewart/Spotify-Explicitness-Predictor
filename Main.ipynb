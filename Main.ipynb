{
 "cells": [
  {
   "cell_type": "code",
   "execution_count": 97,
   "id": "26b7b101",
   "metadata": {},
   "outputs": [],
   "source": [
    "import pandas as pd\n",
    "import numpy as np\n",
    "import matplotlib.pyplot as plt\n",
    "import seaborn as sns\n",
    "from collections import Counter\n",
    "import scipy\n",
    "from sklearn.preprocessing import LabelEncoder, PolynomialFeatures\n",
    "from sklearn.model_selection import train_test_split\n",
    "from sklearn import linear_model, tree\n",
    "from sklearn.metrics import mean_squared_error, r2_score\n",
    "from datetime import datetime\n",
    "from sklearn.linear_model import LinearRegression\n",
    "from sklearn.metrics import confusion_matrix\n",
    "from sklearn.metrics import precision_recall_fscore_support\n",
    "from sklearn.ensemble import RandomForestClassifier, AdaBoostClassifier, BaggingClassifier\n",
    "from sklearn.dummy import DummyClassifier\n",
    "from sklearn.model_selection import RandomizedSearchCV\n",
    "from imblearn.under_sampling import NearMiss\n",
    "from imblearn.over_sampling import RandomOverSampler\n",
    "from sklearn.tree import DecisionTreeClassifier\n",
    "from sklearn.model_selection import cross_val_score\n",
    "import random\n",
    "import time\n",
    "from statsmodels.stats.outliers_influence import variance_inflation_factor    \n",
    "from joblib import Parallel, delayed\n",
    "from sklearn.metrics import confusion_matrix\n",
    "pd.set_option('display.max_columns', None)\n",
    "sns.set(rc={'figure.figsize':(11.7,8.27)})"
   ]
  },
  {
   "cell_type": "markdown",
   "id": "e8766878",
   "metadata": {},
   "source": [
    "# Data preparation"
   ]
  },
  {
   "cell_type": "code",
   "execution_count": 85,
   "id": "cbc997d0",
   "metadata": {},
   "outputs": [],
   "source": [
    "df = pd.read_csv('dataset.csv')"
   ]
  },
  {
   "cell_type": "code",
   "execution_count": 86,
   "id": "cd884ffe",
   "metadata": {},
   "outputs": [
    {
     "name": "stdout",
     "output_type": "stream",
     "text": [
      "number of duplicate rows: 0\n",
      "number of null values:\n",
      "Unnamed: 0          0\n",
      "track_id            0\n",
      "artists             1\n",
      "album_name          1\n",
      "track_name          1\n",
      "popularity          0\n",
      "duration_ms         0\n",
      "explicit            0\n",
      "danceability        0\n",
      "energy              0\n",
      "key                 0\n",
      "loudness            0\n",
      "mode                0\n",
      "speechiness         0\n",
      "acousticness        0\n",
      "instrumentalness    0\n",
      "liveness            0\n",
      "valence             0\n",
      "tempo               0\n",
      "time_signature      0\n",
      "track_genre         0\n",
      "dtype: int64\n"
     ]
    }
   ],
   "source": [
    "print(f'number of duplicate rows: {df.duplicated().sum()}\\nnumber of null values:\\n{df.isna().sum()}')"
   ]
  },
  {
   "cell_type": "code",
   "execution_count": 87,
   "id": "cda591ed",
   "metadata": {},
   "outputs": [],
   "source": [
    "df.drop(['Unnamed: 0', 'track_id', 'artists', 'album_name', 'track_name'], axis=1, inplace = True)"
   ]
  },
  {
   "cell_type": "code",
   "execution_count": 88,
   "id": "630a59f6",
   "metadata": {},
   "outputs": [
    {
     "data": {
      "text/plain": [
       "(114000, 16)"
      ]
     },
     "execution_count": 88,
     "metadata": {},
     "output_type": "execute_result"
    }
   ],
   "source": [
    "df.shape"
   ]
  },
  {
   "cell_type": "code",
   "execution_count": 89,
   "id": "0b9a4d70",
   "metadata": {},
   "outputs": [
    {
     "data": {
      "text/html": [
       "<div>\n",
       "<style scoped>\n",
       "    .dataframe tbody tr th:only-of-type {\n",
       "        vertical-align: middle;\n",
       "    }\n",
       "\n",
       "    .dataframe tbody tr th {\n",
       "        vertical-align: top;\n",
       "    }\n",
       "\n",
       "    .dataframe thead th {\n",
       "        text-align: right;\n",
       "    }\n",
       "</style>\n",
       "<table border=\"1\" class=\"dataframe\">\n",
       "  <thead>\n",
       "    <tr style=\"text-align: right;\">\n",
       "      <th></th>\n",
       "      <th>popularity</th>\n",
       "      <th>duration_ms</th>\n",
       "      <th>explicit</th>\n",
       "      <th>danceability</th>\n",
       "      <th>energy</th>\n",
       "      <th>key</th>\n",
       "      <th>loudness</th>\n",
       "      <th>mode</th>\n",
       "      <th>speechiness</th>\n",
       "      <th>acousticness</th>\n",
       "      <th>instrumentalness</th>\n",
       "      <th>liveness</th>\n",
       "      <th>valence</th>\n",
       "      <th>tempo</th>\n",
       "      <th>time_signature</th>\n",
       "      <th>track_genre</th>\n",
       "    </tr>\n",
       "  </thead>\n",
       "  <tbody>\n",
       "    <tr>\n",
       "      <th>0</th>\n",
       "      <td>73</td>\n",
       "      <td>230666</td>\n",
       "      <td>False</td>\n",
       "      <td>0.676</td>\n",
       "      <td>0.4610</td>\n",
       "      <td>1</td>\n",
       "      <td>-6.746</td>\n",
       "      <td>0</td>\n",
       "      <td>0.1430</td>\n",
       "      <td>0.0322</td>\n",
       "      <td>0.000001</td>\n",
       "      <td>0.3580</td>\n",
       "      <td>0.715</td>\n",
       "      <td>87.917</td>\n",
       "      <td>4</td>\n",
       "      <td>acoustic</td>\n",
       "    </tr>\n",
       "    <tr>\n",
       "      <th>1</th>\n",
       "      <td>55</td>\n",
       "      <td>149610</td>\n",
       "      <td>False</td>\n",
       "      <td>0.420</td>\n",
       "      <td>0.1660</td>\n",
       "      <td>1</td>\n",
       "      <td>-17.235</td>\n",
       "      <td>1</td>\n",
       "      <td>0.0763</td>\n",
       "      <td>0.9240</td>\n",
       "      <td>0.000006</td>\n",
       "      <td>0.1010</td>\n",
       "      <td>0.267</td>\n",
       "      <td>77.489</td>\n",
       "      <td>4</td>\n",
       "      <td>acoustic</td>\n",
       "    </tr>\n",
       "    <tr>\n",
       "      <th>2</th>\n",
       "      <td>57</td>\n",
       "      <td>210826</td>\n",
       "      <td>False</td>\n",
       "      <td>0.438</td>\n",
       "      <td>0.3590</td>\n",
       "      <td>0</td>\n",
       "      <td>-9.734</td>\n",
       "      <td>1</td>\n",
       "      <td>0.0557</td>\n",
       "      <td>0.2100</td>\n",
       "      <td>0.000000</td>\n",
       "      <td>0.1170</td>\n",
       "      <td>0.120</td>\n",
       "      <td>76.332</td>\n",
       "      <td>4</td>\n",
       "      <td>acoustic</td>\n",
       "    </tr>\n",
       "    <tr>\n",
       "      <th>3</th>\n",
       "      <td>71</td>\n",
       "      <td>201933</td>\n",
       "      <td>False</td>\n",
       "      <td>0.266</td>\n",
       "      <td>0.0596</td>\n",
       "      <td>0</td>\n",
       "      <td>-18.515</td>\n",
       "      <td>1</td>\n",
       "      <td>0.0363</td>\n",
       "      <td>0.9050</td>\n",
       "      <td>0.000071</td>\n",
       "      <td>0.1320</td>\n",
       "      <td>0.143</td>\n",
       "      <td>181.740</td>\n",
       "      <td>3</td>\n",
       "      <td>acoustic</td>\n",
       "    </tr>\n",
       "    <tr>\n",
       "      <th>4</th>\n",
       "      <td>82</td>\n",
       "      <td>198853</td>\n",
       "      <td>False</td>\n",
       "      <td>0.618</td>\n",
       "      <td>0.4430</td>\n",
       "      <td>2</td>\n",
       "      <td>-9.681</td>\n",
       "      <td>1</td>\n",
       "      <td>0.0526</td>\n",
       "      <td>0.4690</td>\n",
       "      <td>0.000000</td>\n",
       "      <td>0.0829</td>\n",
       "      <td>0.167</td>\n",
       "      <td>119.949</td>\n",
       "      <td>4</td>\n",
       "      <td>acoustic</td>\n",
       "    </tr>\n",
       "  </tbody>\n",
       "</table>\n",
       "</div>"
      ],
      "text/plain": [
       "   popularity  duration_ms  explicit  danceability  energy  key  loudness  \\\n",
       "0          73       230666     False         0.676  0.4610    1    -6.746   \n",
       "1          55       149610     False         0.420  0.1660    1   -17.235   \n",
       "2          57       210826     False         0.438  0.3590    0    -9.734   \n",
       "3          71       201933     False         0.266  0.0596    0   -18.515   \n",
       "4          82       198853     False         0.618  0.4430    2    -9.681   \n",
       "\n",
       "   mode  speechiness  acousticness  instrumentalness  liveness  valence  \\\n",
       "0     0       0.1430        0.0322          0.000001    0.3580    0.715   \n",
       "1     1       0.0763        0.9240          0.000006    0.1010    0.267   \n",
       "2     1       0.0557        0.2100          0.000000    0.1170    0.120   \n",
       "3     1       0.0363        0.9050          0.000071    0.1320    0.143   \n",
       "4     1       0.0526        0.4690          0.000000    0.0829    0.167   \n",
       "\n",
       "     tempo  time_signature track_genre  \n",
       "0   87.917               4    acoustic  \n",
       "1   77.489               4    acoustic  \n",
       "2   76.332               4    acoustic  \n",
       "3  181.740               3    acoustic  \n",
       "4  119.949               4    acoustic  "
      ]
     },
     "execution_count": 89,
     "metadata": {},
     "output_type": "execute_result"
    }
   ],
   "source": [
    "df.head()"
   ]
  },
  {
   "cell_type": "code",
   "execution_count": 90,
   "id": "9b61e444",
   "metadata": {},
   "outputs": [
    {
     "data": {
      "text/plain": [
       "<bound method DataFrame.info of         popularity  duration_ms  explicit  danceability  energy  key  \\\n",
       "0               73       230666     False         0.676  0.4610    1   \n",
       "1               55       149610     False         0.420  0.1660    1   \n",
       "2               57       210826     False         0.438  0.3590    0   \n",
       "3               71       201933     False         0.266  0.0596    0   \n",
       "4               82       198853     False         0.618  0.4430    2   \n",
       "...            ...          ...       ...           ...     ...  ...   \n",
       "113995          21       384999     False         0.172  0.2350    5   \n",
       "113996          22       385000     False         0.174  0.1170    0   \n",
       "113997          22       271466     False         0.629  0.3290    0   \n",
       "113998          41       283893     False         0.587  0.5060    7   \n",
       "113999          22       241826     False         0.526  0.4870    1   \n",
       "\n",
       "        loudness  mode  speechiness  acousticness  instrumentalness  liveness  \\\n",
       "0         -6.746     0       0.1430        0.0322          0.000001    0.3580   \n",
       "1        -17.235     1       0.0763        0.9240          0.000006    0.1010   \n",
       "2         -9.734     1       0.0557        0.2100          0.000000    0.1170   \n",
       "3        -18.515     1       0.0363        0.9050          0.000071    0.1320   \n",
       "4         -9.681     1       0.0526        0.4690          0.000000    0.0829   \n",
       "...          ...   ...          ...           ...               ...       ...   \n",
       "113995   -16.393     1       0.0422        0.6400          0.928000    0.0863   \n",
       "113996   -18.318     0       0.0401        0.9940          0.976000    0.1050   \n",
       "113997   -10.895     0       0.0420        0.8670          0.000000    0.0839   \n",
       "113998   -10.889     1       0.0297        0.3810          0.000000    0.2700   \n",
       "113999   -10.204     0       0.0725        0.6810          0.000000    0.0893   \n",
       "\n",
       "        valence    tempo  time_signature  track_genre  \n",
       "0        0.7150   87.917               4     acoustic  \n",
       "1        0.2670   77.489               4     acoustic  \n",
       "2        0.1200   76.332               4     acoustic  \n",
       "3        0.1430  181.740               3     acoustic  \n",
       "4        0.1670  119.949               4     acoustic  \n",
       "...         ...      ...             ...          ...  \n",
       "113995   0.0339  125.995               5  world-music  \n",
       "113996   0.0350   85.239               4  world-music  \n",
       "113997   0.7430  132.378               4  world-music  \n",
       "113998   0.4130  135.960               4  world-music  \n",
       "113999   0.7080   79.198               4  world-music  \n",
       "\n",
       "[114000 rows x 16 columns]>"
      ]
     },
     "execution_count": 90,
     "metadata": {},
     "output_type": "execute_result"
    }
   ],
   "source": [
    "df.info"
   ]
  },
  {
   "cell_type": "code",
   "execution_count": 91,
   "id": "9e0af917",
   "metadata": {},
   "outputs": [
    {
     "name": "stdout",
     "output_type": "stream",
     "text": [
      "number of duplicate rows: 7093\n",
      "number of null values:\n",
      "popularity          0\n",
      "duration_ms         0\n",
      "explicit            0\n",
      "danceability        0\n",
      "energy              0\n",
      "key                 0\n",
      "loudness            0\n",
      "mode                0\n",
      "speechiness         0\n",
      "acousticness        0\n",
      "instrumentalness    0\n",
      "liveness            0\n",
      "valence             0\n",
      "tempo               0\n",
      "time_signature      0\n",
      "track_genre         0\n",
      "dtype: int64\n"
     ]
    }
   ],
   "source": [
    "print(f'number of duplicate rows: {df.duplicated().sum()}\\nnumber of null values:\\n{df.isna().sum()}')"
   ]
  },
  {
   "cell_type": "markdown",
   "id": "3d65d577",
   "metadata": {},
   "source": [
    "# Preprocessing"
   ]
  },
  {
   "cell_type": "code",
   "execution_count": 92,
   "id": "2bf48c7b",
   "metadata": {},
   "outputs": [],
   "source": [
    "def labelencoder(df):\n",
    "    for c in df.columns:\n",
    "        if df[c].dtype=='object': \n",
    "            df[c] = df[c].fillna('N')\n",
    "            lbl = LabelEncoder()\n",
    "            lbl.fit(list(df[c].values))\n",
    "            df[c] = lbl.transform(df[c].values)\n",
    "    return df"
   ]
  },
  {
   "cell_type": "code",
   "execution_count": 93,
   "id": "b49f696e",
   "metadata": {},
   "outputs": [
    {
     "data": {
      "text/html": [
       "<div>\n",
       "<style scoped>\n",
       "    .dataframe tbody tr th:only-of-type {\n",
       "        vertical-align: middle;\n",
       "    }\n",
       "\n",
       "    .dataframe tbody tr th {\n",
       "        vertical-align: top;\n",
       "    }\n",
       "\n",
       "    .dataframe thead th {\n",
       "        text-align: right;\n",
       "    }\n",
       "</style>\n",
       "<table border=\"1\" class=\"dataframe\">\n",
       "  <thead>\n",
       "    <tr style=\"text-align: right;\">\n",
       "      <th></th>\n",
       "      <th>popularity</th>\n",
       "      <th>duration_ms</th>\n",
       "      <th>explicit</th>\n",
       "      <th>danceability</th>\n",
       "      <th>energy</th>\n",
       "      <th>key</th>\n",
       "      <th>loudness</th>\n",
       "      <th>mode</th>\n",
       "      <th>speechiness</th>\n",
       "      <th>acousticness</th>\n",
       "      <th>instrumentalness</th>\n",
       "      <th>liveness</th>\n",
       "      <th>valence</th>\n",
       "      <th>tempo</th>\n",
       "      <th>time_signature</th>\n",
       "      <th>track_genre</th>\n",
       "    </tr>\n",
       "  </thead>\n",
       "  <tbody>\n",
       "    <tr>\n",
       "      <th>0</th>\n",
       "      <td>73</td>\n",
       "      <td>230666</td>\n",
       "      <td>False</td>\n",
       "      <td>0.676</td>\n",
       "      <td>0.4610</td>\n",
       "      <td>1</td>\n",
       "      <td>-6.746</td>\n",
       "      <td>0</td>\n",
       "      <td>0.1430</td>\n",
       "      <td>0.0322</td>\n",
       "      <td>0.000001</td>\n",
       "      <td>0.3580</td>\n",
       "      <td>0.715</td>\n",
       "      <td>87.917</td>\n",
       "      <td>4</td>\n",
       "      <td>0</td>\n",
       "    </tr>\n",
       "    <tr>\n",
       "      <th>1</th>\n",
       "      <td>55</td>\n",
       "      <td>149610</td>\n",
       "      <td>False</td>\n",
       "      <td>0.420</td>\n",
       "      <td>0.1660</td>\n",
       "      <td>1</td>\n",
       "      <td>-17.235</td>\n",
       "      <td>1</td>\n",
       "      <td>0.0763</td>\n",
       "      <td>0.9240</td>\n",
       "      <td>0.000006</td>\n",
       "      <td>0.1010</td>\n",
       "      <td>0.267</td>\n",
       "      <td>77.489</td>\n",
       "      <td>4</td>\n",
       "      <td>0</td>\n",
       "    </tr>\n",
       "    <tr>\n",
       "      <th>2</th>\n",
       "      <td>57</td>\n",
       "      <td>210826</td>\n",
       "      <td>False</td>\n",
       "      <td>0.438</td>\n",
       "      <td>0.3590</td>\n",
       "      <td>0</td>\n",
       "      <td>-9.734</td>\n",
       "      <td>1</td>\n",
       "      <td>0.0557</td>\n",
       "      <td>0.2100</td>\n",
       "      <td>0.000000</td>\n",
       "      <td>0.1170</td>\n",
       "      <td>0.120</td>\n",
       "      <td>76.332</td>\n",
       "      <td>4</td>\n",
       "      <td>0</td>\n",
       "    </tr>\n",
       "    <tr>\n",
       "      <th>3</th>\n",
       "      <td>71</td>\n",
       "      <td>201933</td>\n",
       "      <td>False</td>\n",
       "      <td>0.266</td>\n",
       "      <td>0.0596</td>\n",
       "      <td>0</td>\n",
       "      <td>-18.515</td>\n",
       "      <td>1</td>\n",
       "      <td>0.0363</td>\n",
       "      <td>0.9050</td>\n",
       "      <td>0.000071</td>\n",
       "      <td>0.1320</td>\n",
       "      <td>0.143</td>\n",
       "      <td>181.740</td>\n",
       "      <td>3</td>\n",
       "      <td>0</td>\n",
       "    </tr>\n",
       "    <tr>\n",
       "      <th>4</th>\n",
       "      <td>82</td>\n",
       "      <td>198853</td>\n",
       "      <td>False</td>\n",
       "      <td>0.618</td>\n",
       "      <td>0.4430</td>\n",
       "      <td>2</td>\n",
       "      <td>-9.681</td>\n",
       "      <td>1</td>\n",
       "      <td>0.0526</td>\n",
       "      <td>0.4690</td>\n",
       "      <td>0.000000</td>\n",
       "      <td>0.0829</td>\n",
       "      <td>0.167</td>\n",
       "      <td>119.949</td>\n",
       "      <td>4</td>\n",
       "      <td>0</td>\n",
       "    </tr>\n",
       "  </tbody>\n",
       "</table>\n",
       "</div>"
      ],
      "text/plain": [
       "   popularity  duration_ms  explicit  danceability  energy  key  loudness  \\\n",
       "0          73       230666     False         0.676  0.4610    1    -6.746   \n",
       "1          55       149610     False         0.420  0.1660    1   -17.235   \n",
       "2          57       210826     False         0.438  0.3590    0    -9.734   \n",
       "3          71       201933     False         0.266  0.0596    0   -18.515   \n",
       "4          82       198853     False         0.618  0.4430    2    -9.681   \n",
       "\n",
       "   mode  speechiness  acousticness  instrumentalness  liveness  valence  \\\n",
       "0     0       0.1430        0.0322          0.000001    0.3580    0.715   \n",
       "1     1       0.0763        0.9240          0.000006    0.1010    0.267   \n",
       "2     1       0.0557        0.2100          0.000000    0.1170    0.120   \n",
       "3     1       0.0363        0.9050          0.000071    0.1320    0.143   \n",
       "4     1       0.0526        0.4690          0.000000    0.0829    0.167   \n",
       "\n",
       "     tempo  time_signature  track_genre  \n",
       "0   87.917               4            0  \n",
       "1   77.489               4            0  \n",
       "2   76.332               4            0  \n",
       "3  181.740               3            0  \n",
       "4  119.949               4            0  "
      ]
     },
     "execution_count": 93,
     "metadata": {},
     "output_type": "execute_result"
    }
   ],
   "source": [
    "df = labelencoder(df)\n",
    "df.head()"
   ]
  },
  {
   "cell_type": "markdown",
   "id": "88ffa7a3",
   "metadata": {},
   "source": [
    "# Loading and Undersampling"
   ]
  },
  {
   "cell_type": "code",
   "execution_count": 94,
   "id": "185c7320",
   "metadata": {},
   "outputs": [
    {
     "name": "stdout",
     "output_type": "stream",
     "text": [
      "Contents of y_train:  Counter({True: 7798, False: 7797})\n",
      "Contents of y_test:  Counter({False: 1950, True: 1949})\n"
     ]
    }
   ],
   "source": [
    "X = df.loc[:,df.columns != 'explicit'].values\n",
    "y = df['explicit'].values\n",
    "\n",
    "undersample = NearMiss(version=1, n_neighbors=3)\n",
    "X, y = undersample.fit_resample(X, y)\n",
    "\n",
    "X_train, X_test, y_train, y_test = train_test_split(X, y, test_size=0.2, random_state = 0)\n",
    "\n",
    "print(\"Contents of y_train: \",Counter(y_train))\n",
    "print(\"Contents of y_test: \",Counter(y_test))"
   ]
  },
  {
   "cell_type": "markdown",
   "id": "5b06f561",
   "metadata": {},
   "source": [
    "# Declaring Models"
   ]
  },
  {
   "cell_type": "code",
   "execution_count": 95,
   "id": "534956e1",
   "metadata": {},
   "outputs": [],
   "source": [
    "dummy = DummyClassifier(random_state=0)\n",
    "dtc = DecisionTreeClassifier(random_state=0)\n",
    "rf = RandomForestClassifier(random_state=0)\n",
    "adb = AdaBoostClassifier(random_state=0)\n",
    "bc = BaggingClassifier(random_state=0)"
   ]
  },
  {
   "cell_type": "markdown",
   "id": "d4ca615d",
   "metadata": {},
   "source": [
    "# Hyperparameter Search"
   ]
  },
  {
   "cell_type": "code",
   "execution_count": 104,
   "id": "d4f1ff0d",
   "metadata": {},
   "outputs": [
    {
     "name": "stdout",
     "output_type": "stream",
     "text": [
      "Fitting 5 folds for each of 10 candidates, totalling 50 fits\n",
      "[CV] END ...................................n_estimators=157; total time=   4.4s\n",
      "[CV] END ...................................n_estimators=157; total time=   4.2s\n",
      "[CV] END ...................................n_estimators=157; total time=   4.3s\n",
      "[CV] END ...................................n_estimators=157; total time=   4.4s\n",
      "[CV] END ...................................n_estimators=157; total time=   4.3s\n",
      "[CV] END ...................................n_estimators=122; total time=   3.5s\n",
      "[CV] END ...................................n_estimators=122; total time=   3.6s\n",
      "[CV] END ...................................n_estimators=122; total time=   3.4s\n",
      "[CV] END ...................................n_estimators=122; total time=   3.5s\n",
      "[CV] END ...................................n_estimators=122; total time=   3.4s\n",
      "[CV] END ...................................n_estimators=120; total time=   3.3s\n",
      "[CV] END ...................................n_estimators=120; total time=   3.3s\n",
      "[CV] END ...................................n_estimators=120; total time=   3.3s\n",
      "[CV] END ...................................n_estimators=120; total time=   3.3s\n",
      "[CV] END ...................................n_estimators=120; total time=   3.3s\n",
      "[CV] END ...................................n_estimators=183; total time=   5.3s\n",
      "[CV] END ...................................n_estimators=183; total time=   5.1s\n",
      "[CV] END ...................................n_estimators=183; total time=   5.1s\n",
      "[CV] END ...................................n_estimators=183; total time=   5.1s\n",
      "[CV] END ...................................n_estimators=183; total time=   5.1s\n",
      "[CV] END ...................................n_estimators=104; total time=   2.9s\n",
      "[CV] END ...................................n_estimators=104; total time=   2.8s\n",
      "[CV] END ...................................n_estimators=104; total time=   2.9s\n",
      "[CV] END ...................................n_estimators=104; total time=   3.0s\n",
      "[CV] END ...................................n_estimators=104; total time=   2.8s\n",
      "[CV] END ...................................n_estimators=155; total time=   4.3s\n",
      "[CV] END ...................................n_estimators=155; total time=   4.3s\n",
      "[CV] END ...................................n_estimators=155; total time=   4.2s\n",
      "[CV] END ...................................n_estimators=155; total time=   4.3s\n",
      "[CV] END ...................................n_estimators=155; total time=   4.3s\n",
      "[CV] END ...................................n_estimators=177; total time=   5.0s\n",
      "[CV] END ...................................n_estimators=177; total time=   4.9s\n",
      "[CV] END ...................................n_estimators=177; total time=   4.9s\n",
      "[CV] END ...................................n_estimators=177; total time=   5.0s\n",
      "[CV] END ...................................n_estimators=177; total time=   5.1s\n",
      "[CV] END ...................................n_estimators=163; total time=   4.8s\n",
      "[CV] END ...................................n_estimators=163; total time=   4.5s\n",
      "[CV] END ...................................n_estimators=163; total time=   4.6s\n",
      "[CV] END ...................................n_estimators=163; total time=   4.6s\n",
      "[CV] END ...................................n_estimators=163; total time=   4.6s\n",
      "[CV] END ...................................n_estimators=144; total time=   4.0s\n",
      "[CV] END ...................................n_estimators=144; total time=   3.9s\n",
      "[CV] END ...................................n_estimators=144; total time=   4.1s\n",
      "[CV] END ...................................n_estimators=144; total time=   4.0s\n",
      "[CV] END ...................................n_estimators=144; total time=   4.0s\n",
      "[CV] END ...................................n_estimators=108; total time=   2.9s\n",
      "[CV] END ...................................n_estimators=108; total time=   3.0s\n",
      "[CV] END ...................................n_estimators=108; total time=   2.9s\n",
      "[CV] END ...................................n_estimators=108; total time=   3.1s\n",
      "[CV] END ...................................n_estimators=108; total time=   3.0s\n",
      "Fitting 5 folds for each of 10 candidates, totalling 50 fits\n",
      "[CV] END ..learning_rate=0.673469387755102, n_estimators=106; total time=   1.9s\n",
      "[CV] END ..learning_rate=0.673469387755102, n_estimators=106; total time=   2.0s\n",
      "[CV] END ..learning_rate=0.673469387755102, n_estimators=106; total time=   1.9s\n",
      "[CV] END ..learning_rate=0.673469387755102, n_estimators=106; total time=   2.0s\n",
      "[CV] END ..learning_rate=0.673469387755102, n_estimators=106; total time=   2.0s\n",
      "[CV] END learning_rate=0.32653061224489793, n_estimators=171; total time=   3.2s\n",
      "[CV] END learning_rate=0.32653061224489793, n_estimators=171; total time=   3.1s\n",
      "[CV] END learning_rate=0.32653061224489793, n_estimators=171; total time=   3.2s\n",
      "[CV] END learning_rate=0.32653061224489793, n_estimators=171; total time=   3.1s\n",
      "[CV] END learning_rate=0.32653061224489793, n_estimators=171; total time=   3.2s\n",
      "[CV] END .learning_rate=0.3061224489795918, n_estimators=126; total time=   2.3s\n",
      "[CV] END .learning_rate=0.3061224489795918, n_estimators=126; total time=   2.3s\n",
      "[CV] END .learning_rate=0.3061224489795918, n_estimators=126; total time=   2.3s\n",
      "[CV] END .learning_rate=0.3061224489795918, n_estimators=126; total time=   2.3s\n",
      "[CV] END .learning_rate=0.3061224489795918, n_estimators=126; total time=   2.5s\n",
      "[CV] END .learning_rate=0.6938775510204082, n_estimators=163; total time=   3.3s\n",
      "[CV] END .learning_rate=0.6938775510204082, n_estimators=163; total time=   3.2s\n",
      "[CV] END .learning_rate=0.6938775510204082, n_estimators=163; total time=   3.0s\n",
      "[CV] END .learning_rate=0.6938775510204082, n_estimators=163; total time=   3.0s\n",
      "[CV] END .learning_rate=0.6938775510204082, n_estimators=163; total time=   3.2s\n",
      "[CV] END .learning_rate=0.4081632653061224, n_estimators=167; total time=   3.3s\n",
      "[CV] END .learning_rate=0.4081632653061224, n_estimators=167; total time=   3.1s\n",
      "[CV] END .learning_rate=0.4081632653061224, n_estimators=167; total time=   3.1s\n",
      "[CV] END .learning_rate=0.4081632653061224, n_estimators=167; total time=   3.1s\n",
      "[CV] END .learning_rate=0.4081632653061224, n_estimators=167; total time=   3.0s\n",
      "[CV] END .learning_rate=0.1020408163265306, n_estimators=155; total time=   2.8s\n",
      "[CV] END .learning_rate=0.1020408163265306, n_estimators=155; total time=   2.9s\n",
      "[CV] END .learning_rate=0.1020408163265306, n_estimators=155; total time=   2.8s\n",
      "[CV] END .learning_rate=0.1020408163265306, n_estimators=155; total time=   2.8s\n",
      "[CV] END .learning_rate=0.1020408163265306, n_estimators=155; total time=   2.9s\n",
      "[CV] END .learning_rate=0.7142857142857142, n_estimators=157; total time=   2.9s\n",
      "[CV] END .learning_rate=0.7142857142857142, n_estimators=157; total time=   2.9s\n",
      "[CV] END .learning_rate=0.7142857142857142, n_estimators=157; total time=   2.8s\n",
      "[CV] END .learning_rate=0.7142857142857142, n_estimators=157; total time=   2.9s\n",
      "[CV] END .learning_rate=0.7142857142857142, n_estimators=157; total time=   2.9s\n",
      "[CV] END .learning_rate=0.7346938775510203, n_estimators=157; total time=   2.9s\n",
      "[CV] END .learning_rate=0.7346938775510203, n_estimators=157; total time=   2.9s\n",
      "[CV] END .learning_rate=0.7346938775510203, n_estimators=157; total time=   2.9s\n",
      "[CV] END .learning_rate=0.7346938775510203, n_estimators=157; total time=   2.8s\n",
      "[CV] END .learning_rate=0.7346938775510203, n_estimators=157; total time=   2.8s\n",
      "[CV] END .learning_rate=0.9591836734693877, n_estimators=124; total time=   2.3s\n",
      "[CV] END .learning_rate=0.9591836734693877, n_estimators=124; total time=   2.3s\n",
      "[CV] END .learning_rate=0.9591836734693877, n_estimators=124; total time=   2.3s\n",
      "[CV] END .learning_rate=0.9591836734693877, n_estimators=124; total time=   2.3s\n",
      "[CV] END .learning_rate=0.9591836734693877, n_estimators=124; total time=   2.3s\n",
      "[CV] END .learning_rate=0.2857142857142857, n_estimators=110; total time=   2.0s\n",
      "[CV] END .learning_rate=0.2857142857142857, n_estimators=110; total time=   2.0s\n",
      "[CV] END .learning_rate=0.2857142857142857, n_estimators=110; total time=   2.0s\n",
      "[CV] END .learning_rate=0.2857142857142857, n_estimators=110; total time=   2.0s\n",
      "[CV] END .learning_rate=0.2857142857142857, n_estimators=110; total time=   2.0s\n"
     ]
    },
    {
     "name": "stdout",
     "output_type": "stream",
     "text": [
      "Fitting 5 folds for each of 10 candidates, totalling 50 fits\n",
      "[CV] END ...................................n_estimators=157; total time=  18.0s\n",
      "[CV] END ...................................n_estimators=157; total time=  18.3s\n",
      "[CV] END ...................................n_estimators=157; total time=  18.1s\n",
      "[CV] END ...................................n_estimators=157; total time=  17.8s\n",
      "[CV] END ...................................n_estimators=157; total time=  17.7s\n",
      "[CV] END ...................................n_estimators=122; total time=  13.8s\n",
      "[CV] END ...................................n_estimators=122; total time=  13.8s\n",
      "[CV] END ...................................n_estimators=122; total time=  13.9s\n",
      "[CV] END ...................................n_estimators=122; total time=  13.8s\n",
      "[CV] END ...................................n_estimators=122; total time=  14.4s\n",
      "[CV] END ...................................n_estimators=120; total time=  13.9s\n",
      "[CV] END ...................................n_estimators=120; total time=  13.5s\n",
      "[CV] END ...................................n_estimators=120; total time=  13.5s\n",
      "[CV] END ...................................n_estimators=120; total time=  13.6s\n",
      "[CV] END ...................................n_estimators=120; total time=  13.5s\n",
      "[CV] END ...................................n_estimators=183; total time=  20.9s\n",
      "[CV] END ...................................n_estimators=183; total time=  20.8s\n",
      "[CV] END ...................................n_estimators=183; total time=  21.2s\n",
      "[CV] END ...................................n_estimators=183; total time=  20.8s\n",
      "[CV] END ...................................n_estimators=183; total time=  20.6s\n",
      "[CV] END ...................................n_estimators=104; total time=  11.7s\n",
      "[CV] END ...................................n_estimators=104; total time=  12.1s\n",
      "[CV] END ...................................n_estimators=104; total time=  11.7s\n",
      "[CV] END ...................................n_estimators=104; total time=  11.7s\n",
      "[CV] END ...................................n_estimators=104; total time=  11.7s\n",
      "[CV] END ...................................n_estimators=155; total time=  17.8s\n",
      "[CV] END ...................................n_estimators=155; total time=  17.6s\n",
      "[CV] END ...................................n_estimators=155; total time=  17.6s\n",
      "[CV] END ...................................n_estimators=155; total time=  17.6s\n",
      "[CV] END ...................................n_estimators=155; total time=  17.5s\n",
      "[CV] END ...................................n_estimators=177; total time=  20.3s\n",
      "[CV] END ...................................n_estimators=177; total time=  21.5s\n",
      "[CV] END ...................................n_estimators=177; total time=  20.9s\n",
      "[CV] END ...................................n_estimators=177; total time=  20.9s\n",
      "[CV] END ...................................n_estimators=177; total time=  20.9s\n",
      "[CV] END ...................................n_estimators=163; total time=  19.3s\n",
      "[CV] END ...................................n_estimators=163; total time=  19.3s\n",
      "[CV] END ...................................n_estimators=163; total time=  19.7s\n",
      "[CV] END ...................................n_estimators=163; total time=  19.4s\n",
      "[CV] END ...................................n_estimators=163; total time=  19.3s\n",
      "[CV] END ...................................n_estimators=144; total time=  17.0s\n",
      "[CV] END ...................................n_estimators=144; total time=  17.0s\n",
      "[CV] END ...................................n_estimators=144; total time=  17.1s\n",
      "[CV] END ...................................n_estimators=144; total time=  17.1s\n",
      "[CV] END ...................................n_estimators=144; total time=  17.0s\n",
      "[CV] END ...................................n_estimators=108; total time=  12.7s\n",
      "[CV] END ...................................n_estimators=108; total time=  12.6s\n",
      "[CV] END ...................................n_estimators=108; total time=  12.6s\n",
      "[CV] END ...................................n_estimators=108; total time=  12.7s\n",
      "[CV] END ...................................n_estimators=108; total time=  12.6s\n",
      "Random Forest best parameters:  {'n_estimators': 157}\n",
      "Random Forest average accuracy:  0.8490541840333441\n",
      "AdaBoost best parameters:  {'n_estimators': 163, 'learning_rate': 0.6938775510204082}\n",
      "AdaBoost average accuracy:  0.7837768515549857\n",
      "Bagging best parameters:  {'n_estimators': 183}\n",
      "Bagging average accuracy:  0.845848028214171\n"
     ]
    }
   ],
   "source": [
    "param_rf = {\n",
    "    'n_estimators' : np.linspace(100,200, dtype='int16'),\n",
    "}\n",
    "param_adb = {\n",
    "    'n_estimators' : np.linspace(100,200, dtype='int16'),\n",
    "    'learning_rate' : np.linspace(0.0,1.0),\n",
    "}\n",
    "param_bc = {\n",
    "    'n_estimators' : np.linspace(100,200, dtype='int16'),\n",
    "}\n",
    "\n",
    "search_rf = RandomizedSearchCV(rf, param_rf, n_iter=10, verbose=2, random_state=0)\n",
    "search_adb = RandomizedSearchCV(adb, param_adb, n_iter=10, verbose=2, random_state=0)\n",
    "search_bc = RandomizedSearchCV(bc, param_bc, n_iter=10, verbose=2, random_state=0)\n",
    "\n",
    "search_rf.fit(X_train, y_train)\n",
    "search_adb.fit(X_train, y_train)\n",
    "search_bc.fit(X_train, y_train)\n",
    "\n",
    "print(\"Random Forest best parameters: \", search_rf.best_params_)\n",
    "print(\"Random Forest average accuracy: \", search_rf.best_score_)\n",
    "print(\"AdaBoost best parameters: \", search_adb.best_params_)\n",
    "print(\"AdaBoost average accuracy: \", search_adb.best_score_)\n",
    "print(\"Bagging best parameters: \", search_bc.best_params_)\n",
    "print(\"Bagging average accuracy: \", search_bc.best_score_)"
   ]
  },
  {
   "cell_type": "markdown",
   "id": "20228071",
   "metadata": {},
   "source": [
    "# Declaring Model with New Parameters"
   ]
  },
  {
   "cell_type": "code",
   "execution_count": 106,
   "id": "d4dfbf46",
   "metadata": {},
   "outputs": [],
   "source": [
    "dummy = DummyClassifier(random_state=0)\n",
    "dtc = DecisionTreeClassifier(random_state=0)\n",
    "rf = RandomForestClassifier(random_state=0, n_estimators=157)\n",
    "adb = AdaBoostClassifier(random_state=0, n_estimators=163, learning_rate=0.69387755)\n",
    "bc = BaggingClassifier(random_state=0, n_estimators=183)"
   ]
  },
  {
   "cell_type": "markdown",
   "id": "13dfdefa",
   "metadata": {},
   "source": [
    "# Fitting and Storing predictions"
   ]
  },
  {
   "cell_type": "code",
   "execution_count": 107,
   "id": "f4bde0c9",
   "metadata": {},
   "outputs": [
    {
     "data": {
      "text/plain": [
       "BaggingClassifier(n_estimators=183, random_state=0)"
      ]
     },
     "execution_count": 107,
     "metadata": {},
     "output_type": "execute_result"
    }
   ],
   "source": [
    "dummy.fit(X_train, y_train)\n",
    "dtc.fit(X_train, y_train)\n",
    "rf.fit(X_train, y_train)\n",
    "adb.fit(X_train, y_train)\n",
    "bc.fit(X_train, y_train)"
   ]
  },
  {
   "cell_type": "code",
   "execution_count": 108,
   "id": "5fdf37bb",
   "metadata": {},
   "outputs": [],
   "source": [
    "dummypredictions = dummy.predict(X_test)\n",
    "treepredictions = dtc.predict(X_test)\n",
    "forestpredictions = rf.predict(X_test)\n",
    "adapredictions = adb.predict(X_test)\n",
    "baggingpredictions = bc.predict(X_test)\n"
   ]
  },
  {
   "cell_type": "markdown",
   "id": "050a3691",
   "metadata": {},
   "source": [
    "# Creating and Visualizing Confusion Matrices"
   ]
  },
  {
   "cell_type": "code",
   "execution_count": 109,
   "id": "4cb7df06",
   "metadata": {},
   "outputs": [
    {
     "name": "stdout",
     "output_type": "stream",
     "text": [
      "                TN    FP   FN    TP  Accuracy (%)  Precision (%)  Recall (%)\n",
      "Dummy            0  1950    0  1949         49.99          49.99      100.00\n",
      "DecisionTree  1539   411  411  1538         78.92          78.91       78.91\n",
      "RandomForest  1694   256  267  1682         86.59          86.79       86.30\n",
      "AdaBoost      1574   376  436  1513         79.17          80.10       77.63\n",
      "Bagging       1692   258  283  1666         86.12          86.59       85.48\n"
     ]
    }
   ],
   "source": [
    "confusionMatrices=[confusion_matrix(y_test,dummypredictions).ravel(), confusion_matrix(y_test,treepredictions).ravel(), \n",
    "                   confusion_matrix(y_test,forestpredictions).ravel(), confusion_matrix(y_test,adapredictions).ravel(),\n",
    "                   confusion_matrix(y_test,baggingpredictions).ravel()]\n",
    "\n",
    "df = pd.DataFrame(confusionMatrices, columns = ['TN', 'FP', 'FN', 'TP'], \n",
    "                  index=['Dummy','DecisionTree', 'RandomForest','AdaBoost','Bagging'])\n",
    "\n",
    "df['Accuracy (%)'] = (df['TP']+df['TN']) /(df['TP']+df['TN']+df['FP']+df['FN'])*100\n",
    "df['Precision (%)'] = df['TP'] /(df['TP']+df['FP'])*100\n",
    "df['Recall (%)'] = df['TP'] /(df['TP']+df['FN'])*100\n",
    "\n",
    "\n",
    "print(df.round(2))\n"
   ]
  },
  {
   "cell_type": "markdown",
   "id": "bb67c09f",
   "metadata": {},
   "source": [
    "# Validating Results of Random Forest"
   ]
  },
  {
   "cell_type": "code",
   "execution_count": 110,
   "id": "1faaa8a3",
   "metadata": {},
   "outputs": [
    {
     "name": "stdout",
     "output_type": "stream",
     "text": [
      "training accuracy: 100.0%\n",
      "testing accuracy: 86.6%\n",
      "accuracy with 2 folds: 82.9%\n",
      "accuracy with 3 folds: 84.1%\n",
      "accuracy with 4 folds: 84.6%\n",
      "accuracy with 5 folds: 84.9%\n",
      "accuracy with 6 folds: 85.1%\n",
      "accuracy with 7 folds: 85.5%\n",
      "accuracy with 8 folds: 85.3%\n",
      "accuracy with 9 folds: 85.4%\n",
      "accuracy with 10 folds: 85.5%\n"
     ]
    }
   ],
   "source": [
    "print(\"training accuracy: %.01f%%\" % (rf.score(X_train,y_train)*100))\n",
    "print(\"testing accuracy: %.01f%%\" % (rf.score(X_test,y_test)*100))\n",
    "\n",
    "for k in range(2,11):\n",
    "    scr = cross_val_score(rf,X_train,y_train,cv=k)\n",
    "    print(\"accuracy with %d folds: %.1f%%\" % (k, scr.mean()*100))"
   ]
  },
  {
   "cell_type": "markdown",
   "id": "4dfd2445",
   "metadata": {},
   "source": [
    "# Visualizing the Importance of each Feature"
   ]
  },
  {
   "cell_type": "code",
   "execution_count": 118,
   "id": "4d3c414c",
   "metadata": {},
   "outputs": [
    {
     "data": {
      "image/png": "[encoded data removed]",
      "text/plain": [
       "<Figure size 842.4x595.44 with 1 Axes>"
      ]
     },
     "metadata": {},
     "output_type": "display_data"
    }
   ],
   "source": [
    "importances = rf.feature_importances_\n",
    "plt.bar([x for x in range(len(importances))], importances)\n",
    "bars = ('popularity', 'duration', 'danceability', 'energy', 'key', 'loudness', 'mode', 'speechiness'\n",
    "       , 'acousticness', 'instrumentalness', 'liveness', 'valence', 'tempo', 'time_signature', 'track_genre')\n",
    "y_pos = np.arange(len(bars))\n",
    "plt.xticks(y_pos, bars, rotation=45, horizontalalignment='right')\n",
    "plt.show()"
   ]
  },
  {
   "cell_type": "code",
   "execution_count": null,
   "id": "f696f47f",
   "metadata": {},
   "outputs": [],
   "source": []
  },
  {
   "cell_type": "code",
   "execution_count": null,
   "id": "abe26c39",
   "metadata": {},
   "outputs": [],
   "source": []
  },
  {
   "cell_type": "code",
   "execution_count": null,
   "id": "51484040",
   "metadata": {},
   "outputs": [],
   "source": []
  },
  {
   "cell_type": "code",
   "execution_count": null,
   "id": "a5ad85b7",
   "metadata": {},
   "outputs": [],
   "source": []
  },
  {
   "cell_type": "code",
   "execution_count": null,
   "id": "b84444f9",
   "metadata": {},
   "outputs": [],
   "source": []
  }
 ],
 "metadata": {
  "kernelspec": {
   "display_name": "Python 3 (ipykernel)",
   "language": "python",
   "name": "python3"
  },
  "language_info": {
   "codemirror_mode": {
    "name": "ipython",
    "version": 3
   },
   "file_extension": ".py",
   "mimetype": "text/x-python",
   "name": "python",
   "nbconvert_exporter": "python",
   "pygments_lexer": "ipython3",
   "version": "3.9.12"
  }
 },
 "nbformat": 4,
 "nbformat_minor": 5
}
